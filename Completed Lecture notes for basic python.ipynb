{
 "cells": [
  {
   "cell_type": "markdown",
   "metadata": {},
   "source": [
    "# Week 2 - Monday Lesson (variable assignment, loops, lists)"
   ]
  },
  {
   "cell_type": "markdown",
   "metadata": {},
   "source": [
    "## Tasks Today:\n",
    "\n",
    "1) Int & Float assignments <br>\n",
    " &nbsp;&nbsp;&nbsp;&nbsp; a) Assigning int <br>\n",
    " &nbsp;&nbsp;&nbsp;&nbsp; b) Assigning float <br>\n",
    " &nbsp;&nbsp;&nbsp;&nbsp; c) Performing Calculations on ints and floats <br>\n",
    " &nbsp;&nbsp;&nbsp;&nbsp;&nbsp;&nbsp;&nbsp;&nbsp; - Addition <br>\n",
    " &nbsp;&nbsp;&nbsp;&nbsp;&nbsp;&nbsp;&nbsp;&nbsp; - Subtraction <br>\n",
    " &nbsp;&nbsp;&nbsp;&nbsp;&nbsp;&nbsp;&nbsp;&nbsp; - Multiplication <br>\n",
    " &nbsp;&nbsp;&nbsp;&nbsp;&nbsp;&nbsp;&nbsp;&nbsp; - Division <br>\n",
    " &nbsp;&nbsp;&nbsp;&nbsp;&nbsp;&nbsp;&nbsp;&nbsp; - Floor Division <br>\n",
    " &nbsp;&nbsp;&nbsp;&nbsp;&nbsp;&nbsp;&nbsp;&nbsp; - Modulo <br>\n",
    " &nbsp;&nbsp;&nbsp;&nbsp;&nbsp;&nbsp;&nbsp;&nbsp; - Exponential <br>\n",
    "2) String Input-Output <br>\n",
    " &nbsp;&nbsp;&nbsp;&nbsp; a) String Assignment <br>\n",
    " &nbsp;&nbsp;&nbsp;&nbsp; b) print() <br>\n",
    " &nbsp;&nbsp;&nbsp;&nbsp; c) String Concatenation <br>\n",
    " &nbsp;&nbsp;&nbsp;&nbsp; d) Type Conversion <br>\n",
    " &nbsp;&nbsp;&nbsp;&nbsp; e) input() <br>\n",
    " &nbsp;&nbsp;&nbsp;&nbsp; f) format() <br>\n",
    " &nbsp;&nbsp;&nbsp;&nbsp; g) Old Way (python 2) <br>\n",
    "3) <b>In-Class Exercise #1</b> <br>\n",
    "4) If Statements <br>\n",
    " &nbsp;&nbsp;&nbsp;&nbsp; a) 'is' keyword <br>\n",
    " &nbsp;&nbsp;&nbsp;&nbsp; b) 'in' keyword <br>\n",
    " &nbsp;&nbsp;&nbsp;&nbsp; c) 'not in' keyword <br>\n",
    "5) <b>In-Class Exercise #2</b> <br>\n",
    "6) Elif Statements <br>\n",
    "7) Else Statements <br>\n",
    "8) <b>In-Class Exercise #3</b> <br>\n",
    "9) For Loops <br>\n",
    " &nbsp;&nbsp;&nbsp;&nbsp; a) Using 'in' keyword <br>\n",
    " &nbsp;&nbsp;&nbsp;&nbsp; b) Continue Statement <br>\n",
    " &nbsp;&nbsp;&nbsp;&nbsp; c) Break Statement <br>\n",
    " &nbsp;&nbsp;&nbsp;&nbsp; d) Pass Statement <br>\n",
    " &nbsp;&nbsp;&nbsp;&nbsp; e) Double For Loops <br>\n",
    "10) While Loops <br>\n",
    " &nbsp;&nbsp;&nbsp;&nbsp; a) Looping 'While True' <br>\n",
    " &nbsp;&nbsp;&nbsp;&nbsp; b) While and For Loops Used Together <br>\n",
    "11) Built-In Functions <br>\n",
    " &nbsp;&nbsp;&nbsp;&nbsp; a) range() <br>\n",
    " &nbsp;&nbsp;&nbsp;&nbsp; b) len() <br>\n",
    " &nbsp;&nbsp;&nbsp;&nbsp; c) help() <br>\n",
    " &nbsp;&nbsp;&nbsp;&nbsp; d) isinstance() <br>\n",
    " &nbsp;&nbsp;&nbsp;&nbsp; e) abs() <br>\n",
    "12) Try and Except <br>\n",
    "13) Lists <br>\n",
    " &nbsp;&nbsp;&nbsp;&nbsp; a) Declaring Lists <br>\n",
    " &nbsp;&nbsp;&nbsp;&nbsp; b) Indexing a List <br>\n",
    " &nbsp;&nbsp;&nbsp;&nbsp; c) .append() <br>\n",
    " &nbsp;&nbsp;&nbsp;&nbsp; d) .insert() <br>\n",
    " &nbsp;&nbsp;&nbsp;&nbsp; e) .pop() <br>\n",
    " &nbsp;&nbsp;&nbsp;&nbsp; f) .remove() <br>\n",
    " &nbsp;&nbsp;&nbsp;&nbsp; g) del() <br>\n",
    " &nbsp;&nbsp;&nbsp;&nbsp; h) Concatenating Two Lists <br>\n",
    " &nbsp;&nbsp;&nbsp;&nbsp; i) Lists Within Lists <br>\n",
    " &nbsp;&nbsp;&nbsp;&nbsp; j) Looping Through Lists <br>"
   ]
  },
  {
   "cell_type": "markdown",
   "metadata": {},
   "source": [
    "### Int & Float Assignments"
   ]
  },
  {
   "cell_type": "markdown",
   "metadata": {},
   "source": [
    "##### Assigning int"
   ]
  },
  {
   "cell_type": "code",
   "execution_count": 1,
   "metadata": {
    "scrolled": true
   },
   "outputs": [
    {
     "name": "stdout",
     "output_type": "stream",
     "text": [
      "5\n"
     ]
    }
   ],
   "source": [
    "number = 5\n",
    "print(number)"
   ]
  },
  {
   "cell_type": "markdown",
   "metadata": {},
   "source": [
    "##### Assinging float"
   ]
  },
  {
   "cell_type": "code",
   "execution_count": 2,
   "metadata": {},
   "outputs": [
    {
     "name": "stdout",
     "output_type": "stream",
     "text": [
      "2.3\n"
     ]
    }
   ],
   "source": [
    "numberFloat = 2.3\n",
    "print(numberFloat)"
   ]
  },
  {
   "cell_type": "markdown",
   "metadata": {},
   "source": [
    "#### Performing Calculations on ints and floats"
   ]
  },
  {
   "cell_type": "markdown",
   "metadata": {},
   "source": [
    "##### Addition"
   ]
  },
  {
   "cell_type": "code",
   "execution_count": 3,
   "metadata": {},
   "outputs": [
    {
     "name": "stdout",
     "output_type": "stream",
     "text": [
      "7.4\n",
      "3\n"
     ]
    }
   ],
   "source": [
    "#Declaring Variables\n",
    "number1=2\n",
    "number2=5.4\n",
    "\n",
    "#Printing the addition of these\n",
    "print(number1+number2)\n",
    "\n",
    "#short hand of storing a new varible after increment of 1\n",
    "number1 += 1\n",
    "print(number1)\n"
   ]
  },
  {
   "cell_type": "markdown",
   "metadata": {},
   "source": [
    "##### Subtraction"
   ]
  },
  {
   "cell_type": "code",
   "execution_count": 4,
   "metadata": {},
   "outputs": [
    {
     "name": "stdout",
     "output_type": "stream",
     "text": [
      "2.5\n",
      "3\n"
     ]
    }
   ],
   "source": [
    "#Declaring varirbles to be used in subraction\n",
    "number3=5\n",
    "number4=2.5\n",
    "\n",
    "#print the diffrence between them\n",
    "print(number3-number4)\n",
    "\n",
    "#short hand of storing a new value in number after decrement of 2\n",
    "number3 -= 2\n",
    "\n",
    "#printing new varible number 3 to show the new value at the address of number3\n",
    "print(number3)\n",
    "\n"
   ]
  },
  {
   "cell_type": "markdown",
   "metadata": {},
   "source": [
    "##### Multiplication"
   ]
  },
  {
   "cell_type": "code",
   "execution_count": 5,
   "metadata": {},
   "outputs": [
    {
     "name": "stdout",
     "output_type": "stream",
     "text": [
      "10.8\n",
      "4\n"
     ]
    }
   ],
   "source": [
    "#Declaring varibles\n",
    "number5=2\n",
    "number6=5.4\n",
    "\n",
    "#Printing the mutiplication of these varibles of different data types that outputs a float\n",
    "print(number5*number6)\n",
    "\n",
    "#Storing a new short hand varible using mutiplication\n",
    "number5 *= 2\n",
    "\n",
    "#printing number 5\n",
    "print(number5)"
   ]
  },
  {
   "cell_type": "markdown",
   "metadata": {},
   "source": [
    "##### Division"
   ]
  },
  {
   "cell_type": "code",
   "execution_count": 6,
   "metadata": {},
   "outputs": [
    {
     "name": "stdout",
     "output_type": "stream",
     "text": [
      "0.37037037037037035\n"
     ]
    }
   ],
   "source": [
    "number7=2\n",
    "number8=5.4\n",
    "print(number7/number8)\n"
   ]
  },
  {
   "cell_type": "markdown",
   "metadata": {},
   "source": [
    "##### Floor Division"
   ]
  },
  {
   "cell_type": "code",
   "execution_count": 7,
   "metadata": {},
   "outputs": [
    {
     "name": "stdout",
     "output_type": "stream",
     "text": [
      "0.0\n",
      "2.0\n"
     ]
    }
   ],
   "source": [
    "#Declaring Variables\n",
    "number9=5.4\n",
    "number10=2\n",
    "\n",
    "#printing the result of floor devision\n",
    "print(number10//number9)\n",
    "\n",
    "#storing new value into number9 by short hand \n",
    "number9//=2\n",
    "#prining number 9 showing that floor divsion removes the remainder\n",
    "print(number9)\n",
    "\n"
   ]
  },
  {
   "cell_type": "markdown",
   "metadata": {},
   "source": [
    "##### Modulo"
   ]
  },
  {
   "cell_type": "code",
   "execution_count": 8,
   "metadata": {},
   "outputs": [
    {
     "name": "stdout",
     "output_type": "stream",
     "text": [
      "10\n",
      "0\n"
     ]
    }
   ],
   "source": [
    "#declaring variables\n",
    "result_mod = 100%30\n",
    "#printing number10 modulo number 2\n",
    "print(result_mod)\n",
    "\n",
    "#re-assigning varible using mod two\n",
    "result_mod %= 2\n",
    "#printing number 10\n",
    "print(result_mod)\n",
    "\n"
   ]
  },
  {
   "cell_type": "markdown",
   "metadata": {},
   "source": [
    "##### Exponential"
   ]
  },
  {
   "cell_type": "code",
   "execution_count": 9,
   "metadata": {},
   "outputs": [
    {
     "ename": "SyntaxError",
     "evalue": "invalid syntax (1764128276.py, line 7)",
     "output_type": "error",
     "traceback": [
      "\u001b[1;36m  Cell \u001b[1;32mIn[9], line 7\u001b[1;36m\u001b[0m\n\u001b[1;33m    square = **2\u001b[0m\n\u001b[1;37m             ^\u001b[0m\n\u001b[1;31mSyntaxError\u001b[0m\u001b[1;31m:\u001b[0m invalid syntax\n"
     ]
    }
   ],
   "source": [
    "#Declaring varibles reusing\n",
    "square = 5**2\n",
    "#print in square\n",
    "print(square)\n",
    "\n",
    "#short hand version of squaring\n",
    "square **=2\n",
    "\n",
    "#print square\n",
    "print(square)"
   ]
  },
  {
   "cell_type": "markdown",
   "metadata": {},
   "source": [
    "### String Input-Output"
   ]
  },
  {
   "cell_type": "markdown",
   "metadata": {},
   "source": [
    "##### String Assignment"
   ]
  },
  {
   "cell_type": "code",
   "execution_count": null,
   "metadata": {},
   "outputs": [],
   "source": [
    "name = \"Kane\"\n",
    "print(name)"
   ]
  },
  {
   "cell_type": "markdown",
   "metadata": {},
   "source": [
    "##### print() <br>\n",
    "<p>Don't forget about end=' '</p>"
   ]
  },
  {
   "cell_type": "code",
   "execution_count": null,
   "metadata": {},
   "outputs": [],
   "source": [
    "#Printing a string that also has a common and end equals null\n",
    "print(\"This is my frist name: \",name)\n",
    "\n",
    "print(\"this is my Full name:\",name, end =\" Space Tyrant\")"
   ]
  },
  {
   "cell_type": "markdown",
   "metadata": {},
   "source": [
    "##### String Concatenation"
   ]
  },
  {
   "cell_type": "code",
   "execution_count": null,
   "metadata": {},
   "outputs": [],
   "source": [
    "#This produces an error of lack of space bewteen the last name and frist name\n",
    "frist_name=\"Kane\"\n",
    "last_name = \"Space Tyrant\"\n",
    "full_name = frist_name + last_name\n",
    "print(full_name)\n",
    "\n",
    "#This is an example of how to fix that problem\n",
    "full_name = frist_name +\" \" + last_name\n",
    "print(full_name)\n",
    "\n",
    "#You can short hand Concatenation\n",
    "full_name += \" jr\"\n",
    "print(full_name)\n",
    "\n"
   ]
  },
  {
   "cell_type": "markdown",
   "metadata": {},
   "source": [
    "##### Type Conversion"
   ]
  },
  {
   "cell_type": "code",
   "execution_count": null,
   "metadata": {},
   "outputs": [],
   "source": [
    "#This produces an error of types commented out prevent usage\n",
    "#number = \"32\"\n",
    "#number += 5\n",
    "#print(number)\n",
    "\n",
    "#This only works if the the only the string contains a number\n",
    "number= int(\"32\")\n",
    "number += 5\n",
    "print(number)\n",
    "\n",
    "#Brandons way\n",
    "number = \"32\"\n",
    "change_type_num=int(number)\n",
    "change_type_num += 5\n",
    "print(change_type_num)\n",
    "print(number)"
   ]
  },
  {
   "cell_type": "markdown",
   "metadata": {},
   "source": [
    "##### input()"
   ]
  },
  {
   "cell_type": "code",
   "execution_count": null,
   "metadata": {},
   "outputs": [],
   "source": [
    "# Input() will always return a string!!! ALL the time.\n",
    "name = input(\"What is your name? \")\n",
    "#Printing name\n",
    "print(name)\n",
    "# Asking input for age that isnt conversted python goes like by line and will run untill it break this produce a type error\n",
    "#input() always returns a string\n",
    "#age = intut(\" what is your age? \")\n",
    "#new_age = age + 1\n",
    "\n",
    "#Correcting the input and converting it into an int\n",
    "age = int(input(\"what is your age? \"))\n",
    "new_age = age + 1\n",
    "print(new_age)\n",
    "\n"
   ]
  },
  {
   "cell_type": "markdown",
   "metadata": {},
   "source": [
    "##### format()"
   ]
  },
  {
   "cell_type": "code",
   "execution_count": 16,
   "metadata": {},
   "outputs": [
    {
     "name": "stdout",
     "output_type": "stream",
     "text": [
      "What is your age? 34\n",
      "What is your name? Kane\n",
      "you are Kane, you are 34 years old and getting wiser!\n"
     ]
    }
   ],
   "source": [
    "age = input(\"What is your age? \")\n",
    "name = input(\"What is your name? \")\n",
    "result = \"you are {}, you are {} years old and getting wiser!\".format(name, age)\n",
    "print(result)"
   ]
  },
  {
   "cell_type": "code",
   "execution_count": null,
   "metadata": {},
   "outputs": [],
   "source": [
    "##### Old Way (python 2)"
   ]
  },
  {
   "cell_type": "code",
   "execution_count": null,
   "metadata": {},
   "outputs": [],
   "source": [
    "result2 = \"You are %s and you look great for age!\" %age"
   ]
  },
  {
   "cell_type": "markdown",
   "metadata": {},
   "source": [
    "# In-Class Exercise 1 <br>\n",
    "<p>Create a format statement that asks for color, year, make, model and prints out the results</p>"
   ]
  },
  {
   "cell_type": "code",
   "execution_count": 19,
   "metadata": {},
   "outputs": [
    {
     "name": "stdout",
     "output_type": "stream",
     "text": [
      "What is the color of your car? Black\n",
      "The date the car was made? 2005\n",
      "what is the make of your car? Toyota\n",
      "what is the model of your car? Scion Tc\n",
      "Your car is the color Black, its made by Toyota, and its a 2005 Scion Tc type car\n"
     ]
    }
   ],
   "source": [
    "car_color = input(\"What is the color of your car? \")\n",
    "car_year = input(\"The date the car was made? \")\n",
    "car_make = input(\"what is the make of your car? \")\n",
    "car_model = input(\"what is the model of your car? \")\n",
    "\n",
    "print(\"Your car is the color {}, its made by {}, and its a {} {} type car\".format(car_color,car_make,car_year,car_model))"
   ]
  },
  {
   "cell_type": "markdown",
   "metadata": {},
   "source": [
    "### If Statements"
   ]
  },
  {
   "cell_type": "code",
   "execution_count": 22,
   "metadata": {},
   "outputs": [
    {
     "name": "stdout",
     "output_type": "stream",
     "text": [
      "num2 is not equal to num1\n",
      "five is eqaul to num1\n",
      "num2 is greater than num1\n"
     ]
    }
   ],
   "source": [
    "# Available operators: Greater(>), Less(<),Equal(==)\n",
    "# Greater or Equal(>=), Less or Equal (<=)\n",
    "\n",
    "#if (thing that is true or false) is true:\n",
    "    #Then these program lines occur\n",
    "\n",
    "#Declaring variables for if statements\n",
    "num1 = 5\n",
    "num2 = 10\n",
    "\n",
    "#Checking if num1 is equal to num2\n",
    "if num1 == num2:\n",
    "    #this is the body of an if stament\n",
    "    print(\"Equal Values\")\n",
    "else:\n",
    "    print(\"num2 is not equal to num1\")\n",
    "    \n",
    "#Checking if num1 is eqaul to 5\n",
    "if num1 == 5:\n",
    "    print(\"five is eqaul to num1\")\n",
    "\n",
    "#if num1 != num2:\n",
    "#   print(\"num2 is not equal to num2\")\n",
    "\n",
    "if num2 > num1:\n",
    "    print(\"num2 is greater than num1\")\n",
    "elif num2 < num1:\n",
    "    print(\"num2 is less than num1 \")\n",
    "else:\n",
    "    print(\"num2 is equal to num1\")\n",
    "    #else is not required for the code to function\n",
    "\n",
    "\n",
    "\n",
    "\n"
   ]
  },
  {
   "cell_type": "markdown",
   "metadata": {},
   "source": [
    "##### 'is' keyword"
   ]
  },
  {
   "cell_type": "code",
   "execution_count": 24,
   "metadata": {
    "scrolled": true
   },
   "outputs": [
    {
     "name": "stdout",
     "output_type": "stream",
     "text": [
      "This is the exact number\n"
     ]
    }
   ],
   "source": [
    "# use is checking when checking for same or similar object, Not the same value\n",
    "\n",
    "num3 = 5\n",
    "num4 = num3\n",
    "if num3 is num3:\n",
    "    print(\"This is the exact number\")"
   ]
  },
  {
   "cell_type": "markdown",
   "metadata": {},
   "source": [
    "##### 'in' keyword"
   ]
  },
  {
   "cell_type": "code",
   "execution_count": 28,
   "metadata": {},
   "outputs": [
    {
     "name": "stdout",
     "output_type": "stream",
     "text": [
      "The charater who lost everything. \n"
     ]
    }
   ],
   "source": [
    "char_name = \"Max Payne\"\n",
    "\n",
    "if \"Max\" in char_name:\n",
    "    print(\"The charater who lost everything. \")"
   ]
  },
  {
   "cell_type": "markdown",
   "metadata": {},
   "source": [
    "##### 'not in' keyword'"
   ]
  },
  {
   "cell_type": "code",
   "execution_count": null,
   "metadata": {},
   "outputs": [],
   "source": [
    "sega_charater = \"Sonic\"\n",
    "\n",
    "if \"a\" not in sega_charater:\n",
    "    print(\"a is not in here\")"
   ]
  },
  {
   "cell_type": "markdown",
   "metadata": {},
   "source": [
    "# In-Class Exercise 2 <br>\n",
    "<p>Ask user for input, check to see if the letter 'p' is in the input</p>"
   ]
  },
  {
   "cell_type": "code",
   "execution_count": 30,
   "metadata": {},
   "outputs": [
    {
     "name": "stdout",
     "output_type": "stream",
     "text": [
      "Enter a word to check if it contains a letterPeople\n",
      "user input contains a p\n"
     ]
    }
   ],
   "source": [
    "user_input = input(\"Enter a word to check if it contains a letter? \")\n",
    "\n",
    "if \"p\" in user_input:\n",
    "    print(\"user input contains a p\")\n",
    "else:\n",
    "    print(\"user input does contain a p\")"
   ]
  },
  {
   "cell_type": "markdown",
   "metadata": {},
   "source": [
    "## Using 'and'/'or' with If Statements"
   ]
  },
  {
   "cell_type": "code",
   "execution_count": 31,
   "metadata": {},
   "outputs": [],
   "source": [
    "# Truth Tree:\n",
    "# T && F = F\n",
    "# T && T = T\n",
    "# T || F = T\n",
    "# F || T = T\n",
    "# F || F = F\n",
    "\n",
    "#Think of the flow of something with water\n",
    "#If I have a statement is true then it has water flowing though it\n",
    "#If the add statement will prevent the flow of water\n",
    "#If  we have an or statement since one of the water is flowing there both will contain flow\n",
    "#If we have a flow of water in both flows then and allows water flow\n",
    "\n",
    "#Declaring a variable for use in the and or and if statements\n",
    "frist_name = \"max\"\n",
    "\n",
    "#Recalling previous lecutures\n",
    "if frist_name == \"smith\":\n",
    "    print(\"the name is smith\")\n",
    "elif frist_name != \"max\":\n",
    "    print(\"the name is not max\")\n",
    "else:\n",
    "    print(\"the name is max\")\n",
    "\n",
    "    \n",
    "# Showcasing an and satement being true\n",
    "age = 10\n",
    "if frist_name == \"max\" and age == 10:\n",
    "    print(\"your name is {} and your {}.\".format(frist_name,age)\n",
    "#Showocasing an and statement being false with one small little change          \n",
    "age = 11\n",
    "if frist_name == \"max\" and age == 10:\n",
    "    print(\"your name is {} and your {}.\".format(frist_name,age)\n",
    "#Showing the or function still works\n",
    "elif frist_name == \"max\" or age == 10;\n",
    "    print(\"your name is {} and your {}.\".format(frist_name,age)\n",
    "\n",
    "\n",
    "print(True and False)\n",
    "print(True and True)\n",
    "\n"
   ]
  },
  {
   "cell_type": "markdown",
   "metadata": {},
   "source": [
    "### Elif Statements"
   ]
  },
  {
   "cell_type": "code",
   "execution_count": null,
   "metadata": {},
   "outputs": [],
   "source": [
    "#Declaring a variable for use in the and or and if statements\n",
    "frist_name = \"max\"\n",
    "# Showcasing an and satement being true\n",
    "age = 10\n",
    "if frist_name == \"max\" and age == 10:\n",
    "    print(\"your name is {} and your {}.\".format(frist_name,age)\n",
    "#Showocasing an and statement being false with one small little change          \n",
    "age = 11\n",
    "if frist_name == \"max\" and age == 10:\n",
    "    print(\"your name is {} and your {}.\".format(frist_name,age)\n",
    "#Showing the or function still works\n",
    "elif frist_name == \"max\" or age == 10;\n",
    "    print(\"your name is {} and your {}.\".format(frist_name,ag"
   ]
  },
  {
   "cell_type": "markdown",
   "metadata": {},
   "source": [
    "### Else Statements"
   ]
  },
  {
   "cell_type": "code",
   "execution_count": 10,
   "metadata": {},
   "outputs": [],
   "source": [
    "#Declaring a variable for use in the and or and if statements\n",
    "frist_name = \"max\"\n",
    "#Recalling previous lecutures\n",
    "if frist_name == \"smith\":\n",
    "    print(\"the name is smith\")\n",
    "elif frist_name != \"max\":\n",
    "    print(\"the name is not max\")\n",
    "else:\n",
    "    print(\"the name is max\") above"
   ]
  },
  {
   "cell_type": "markdown",
   "metadata": {},
   "source": [
    "### For Loops"
   ]
  },
  {
   "cell_type": "code",
   "execution_count": 67,
   "metadata": {},
   "outputs": [
    {
     "name": "stdout",
     "output_type": "stream",
     "text": [
      "K a n e   S p a c e   T y r a n t 0 1 2 3 4 5 6 7 8 9 10 11 12 13 14 15 16 K a n e   S p a c e   T y r a n t "
     ]
    }
   ],
   "source": [
    "#continous looping untill the list is done.\n",
    "#for item in iterable_thing:\n",
    "    #Do some stuff\n",
    "#Declaring a string to loop though\n",
    "name = \"Kane Space Tyrant\"\n",
    "#Prints a space between each letter, letter is a tempory variable\n",
    "for letter in name:\n",
    "    print(letter, end = \" \")\n",
    "\n",
    "#introducng a new key word range()\n",
    "for letter in range(len(name)):\n",
    "    print(letter, end =\" \")\n",
    "\n",
    "#introducng the concept of the letterth number in name\n",
    "#name we got that, \n",
    "for letter in range(len(name)):\n",
    "    print(name[letter], end =\" \")"
   ]
  },
  {
   "cell_type": "markdown",
   "metadata": {},
   "source": [
    "##### Using 'in' keyword"
   ]
  },
  {
   "cell_type": "code",
   "execution_count": 11,
   "metadata": {},
   "outputs": [],
   "source": [
    "# see above"
   ]
  },
  {
   "cell_type": "markdown",
   "metadata": {},
   "source": [
    "##### Continue Statement"
   ]
  },
  {
   "cell_type": "code",
   "execution_count": 12,
   "metadata": {},
   "outputs": [],
   "source": [
    "# will continue to next iteration"
   ]
  },
  {
   "cell_type": "code",
   "execution_count": 68,
   "metadata": {},
   "outputs": [
    {
     "name": "stdout",
     "output_type": "stream",
     "text": [
      "0 1 2 3 4 6 7 8 9 10 11 12 13 14 15 16 17 18 19 "
     ]
    }
   ],
   "source": [
    "#continue will skip the rest of the code and go the next iteration\n",
    "for i in range(20):\n",
    "    if i == 5:\n",
    "        continue\n",
    "    print(i, end = \" \")"
   ]
  },
  {
   "cell_type": "markdown",
   "metadata": {},
   "source": [
    "##### Break Statement"
   ]
  },
  {
   "cell_type": "code",
   "execution_count": 13,
   "metadata": {},
   "outputs": [],
   "source": [
    "# will break out of current loop"
   ]
  },
  {
   "cell_type": "code",
   "execution_count": 69,
   "metadata": {},
   "outputs": [
    {
     "name": "stdout",
     "output_type": "stream",
     "text": [
      "0 1 2 3 4 "
     ]
    }
   ],
   "source": [
    "#break well end the loop and go to next line of code after the for loop\n",
    "for i in range(20):\n",
    "    if i == 5:\n",
    "        break\n",
    "    print(i, end = \" \")"
   ]
  },
  {
   "cell_type": "markdown",
   "metadata": {},
   "source": [
    "##### Pass Statement"
   ]
  },
  {
   "cell_type": "code",
   "execution_count": 14,
   "metadata": {},
   "outputs": [],
   "source": [
    "# mostly used as a placeholder, and will continue on same iteration"
   ]
  },
  {
   "cell_type": "code",
   "execution_count": null,
   "metadata": {},
   "outputs": [],
   "source": [
    "for letter in name:\n",
    "    pass\n",
    "#I will come back to this section later"
   ]
  },
  {
   "cell_type": "markdown",
   "metadata": {},
   "source": [
    "##### Double For Loops"
   ]
  },
  {
   "cell_type": "code",
   "execution_count": 76,
   "metadata": {},
   "outputs": [
    {
     "name": "stdout",
     "output_type": "stream",
     "text": [
      "i = 0 j = 0\n",
      "i = 0 j = 1\n",
      "i = 0 j = 2\n",
      "i = 0 j = 3\n",
      "i = 0 j = 4\n",
      "i = 1 j = 0\n",
      "i = 1 j = 1\n",
      "i = 1 j = 2\n",
      "i = 1 j = 3\n",
      "i = 1 j = 4\n",
      "i = 2 j = 0\n",
      "i = 2 j = 1\n",
      "i = 2 j = 2\n",
      "i = 2 j = 3\n",
      "i = 2 j = 4\n",
      "i = 3 j = 0\n",
      "i = 3 j = 1\n",
      "i = 3 j = 2\n",
      "i = 3 j = 3\n",
      "i = 3 j = 4\n",
      "i = 4 j = 0\n",
      "i = 4 j = 1\n",
      "i = 4 j = 2\n",
      "i = 4 j = 3\n",
      "i = 4 j = 4\n",
      "the total number of loops is  25\n"
     ]
    }
   ],
   "source": [
    "#Show casing a double loop and displaying how each loop interacts\n",
    "for i in range(5):\n",
    "    for j in range(5):\n",
    "        print(\"i =\", i,  \"j =\", j)\n",
    "# showing how many iterations in the double loop 5*5 = 25\n",
    "total = 0\n",
    "for i in range(5):\n",
    "    for j in range(5):\n",
    "        total += 1\n",
    "print(\"the total number of loops is \",total)"
   ]
  },
  {
   "cell_type": "markdown",
   "metadata": {},
   "source": [
    "### While Loops"
   ]
  },
  {
   "cell_type": "code",
   "execution_count": 77,
   "metadata": {},
   "outputs": [],
   "source": [
    "# while loops keep going untill some conditional statement is meet. While conditional statement is true keep going.\n",
    "    #Do some stuff repeatly\n",
    "    #Something the changes the truefullness of the conditiion\n",
    "\n",
    "#This an infinite looop\n",
    "#num = 0\n",
    "#while < 10:\n",
    "#    print(num)\n",
    "\n",
    "#This converts the while to basically a for loop\n",
    "num = 0\n",
    "while < 10:\n",
    "    print(num)\n",
    "    num += 1\n",
    "# another way of breaking a while loop based on a conditional break\n",
    "While True:\n",
    "    if num > 10:\n",
    "        break\n",
    "    print(num)\n",
    "    num +=1\n"
   ]
  },
  {
   "cell_type": "markdown",
   "metadata": {},
   "source": [
    "##### Looping 'While True'"
   ]
  },
  {
   "cell_type": "code",
   "execution_count": null,
   "metadata": {},
   "outputs": [],
   "source": [
    "\n",
    "#declaring a flag that we will change its value to break the loop\n",
    "flag = True\n",
    "#A for loop like while loop that uses a flag\n",
    "while flag:\n",
    "    if num > 10:\n",
    "        flag = False\n",
    "    print(num)\n",
    "    num +=1\n",
    "\n",
    "#brandon apol\n",
    "\n",
    "game_over = True\n",
    "score = 0\n",
    "\n",
    "while game_over:\n",
    "        user_input=input(\"say some stuff type quit to break the loop\")\n",
    "        if user_input == \"quit\":\n",
    "            game_over = False\n",
    "        print(user_input)\n",
    "        print(score)\n",
    "        score += 1\n"
   ]
  },
  {
   "cell_type": "markdown",
   "metadata": {},
   "source": [
    "##### While & For Loops Used Together"
   ]
  },
  {
   "cell_type": "code",
   "execution_count": null,
   "metadata": {},
   "outputs": [],
   "source": [
    "num = 0\n",
    "\n",
    "while num < 5:\n",
    "    print(\\n \"While loop Iteration. \" + str(num))\n",
    "    \n",
    "    for i in range(2):\n",
    "        print(\"For Iteration: \"+ str(i))\n",
    "        \n",
    "    num += 1\n"
   ]
  },
  {
   "cell_type": "markdown",
   "metadata": {},
   "source": [
    "### Built-In Functions"
   ]
  },
  {
   "cell_type": "markdown",
   "metadata": {},
   "source": [
    "##### range()"
   ]
  },
  {
   "cell_type": "code",
   "execution_count": null,
   "metadata": {},
   "outputs": [],
   "source": [
    "# Range function has (Start,End,Increment by)\n",
    "# Range defaults to zero, end is required and increment by defaults to one\n",
    "for i in range (2,20,3):\n",
    "    print(i)"
   ]
  },
  {
   "cell_type": "markdown",
   "metadata": {},
   "source": [
    "##### len()"
   ]
  },
  {
   "cell_type": "code",
   "execution_count": null,
   "metadata": {},
   "outputs": [],
   "source": [
    "name = \"Max\"\n",
    "lenght = len(name)\n",
    "print(lenght)\n",
    "\n"
   ]
  },
  {
   "cell_type": "markdown",
   "metadata": {},
   "source": [
    "##### help()"
   ]
  },
  {
   "cell_type": "code",
   "execution_count": 78,
   "metadata": {},
   "outputs": [
    {
     "name": "stdout",
     "output_type": "stream",
     "text": [
      "Help on built-in function print in module builtins:\n",
      "\n",
      "print(*args, sep=' ', end='\\n', file=None, flush=False)\n",
      "    Prints the values to a stream, or to sys.stdout by default.\n",
      "    \n",
      "    sep\n",
      "      string inserted between values, default a space.\n",
      "    end\n",
      "      string appended after the last value, default a newline.\n",
      "    file\n",
      "      a file-like object (stream); defaults to the current sys.stdout.\n",
      "    flush\n",
      "      whether to forcibly flush the stream.\n",
      "\n"
     ]
    }
   ],
   "source": [
    "help(print)\n"
   ]
  },
  {
   "cell_type": "markdown",
   "metadata": {},
   "source": [
    "##### isinstance()"
   ]
  },
  {
   "cell_type": "code",
   "execution_count": 81,
   "metadata": {},
   "outputs": [
    {
     "name": "stdout",
     "output_type": "stream",
     "text": [
      "True\n"
     ]
    }
   ],
   "source": [
    "# Tells us what type of data the argumenet is\n",
    "num = 9\n",
    "print(isinstance(num, int))\n",
    "print(isinstance(num, str))\n",
    "\n",
    "if isinstance(num, int):\n",
    "    print(\"This is an integer:\")"
   ]
  },
  {
   "cell_type": "markdown",
   "metadata": {},
   "source": [
    "##### abs()"
   ]
  },
  {
   "cell_type": "code",
   "execution_count": null,
   "metadata": {},
   "outputs": [],
   "source": [
    "# Absolute Value \n",
    "print(ab(-5))\n",
    "\n"
   ]
  },
  {
   "cell_type": "markdown",
   "metadata": {},
   "source": [
    "### Try and Except"
   ]
  },
  {
   "cell_type": "code",
   "execution_count": null,
   "metadata": {},
   "outputs": [],
   "source": [
    "# Use this whenever you expect to encounter a bug so that effor doesn't cause the loop to stop\n",
    "# Use this ti log out graceful and informative error messages\n",
    "\n",
    "try:\n",
    "    #This code to see I breaks\n",
    "    number_test = 0\n",
    "    input_num = int(input(\"Guess a number \"))\n",
    "    if input_num != number_test:\n",
    "        input_num = input_num + number_test\n",
    "        print(\"Your number is \" + str(input(input_num)))\n",
    "except:\n",
    "    print(\"That did not work please change your input into a number\")"
   ]
  },
  {
   "cell_type": "markdown",
   "metadata": {},
   "source": [
    "### Lists"
   ]
  },
  {
   "cell_type": "markdown",
   "metadata": {},
   "source": [
    "##### Declaring Lists"
   ]
  },
  {
   "cell_type": "code",
   "execution_count": 89,
   "metadata": {},
   "outputs": [
    {
     "name": "stdout",
     "output_type": "stream",
     "text": [
      "['max', 'cindy', 'kathey', 'bob', 'nate', 5]\n"
     ]
    }
   ],
   "source": [
    "#Lists are collection of items this is an example of an empty list\n",
    "my_list = []\n",
    "#The list of names python allows for different types of data in names\n",
    "names = [\"max\", \"cindy\", \"kathey\", \"bob\", \"nate\", 5]\n",
    "print(names)\n",
    "\n"
   ]
  },
  {
   "cell_type": "markdown",
   "metadata": {},
   "source": [
    "##### Indexing a List"
   ]
  },
  {
   "cell_type": "code",
   "execution_count": 93,
   "metadata": {},
   "outputs": [
    {
     "name": "stdout",
     "output_type": "stream",
     "text": [
      "kathey\n",
      "5\n",
      "5\n",
      "['cindy', 'kathey', 'bob', 'nate', 5]\n",
      "['max', 'cindy', 'kathey']\n",
      "ne\n",
      "['cindy', 'bob', 5]\n",
      "[5, 'nate', 'bob', 'kathey', 'cindy', 'max']\n"
     ]
    }
   ],
   "source": [
    "#list_name[start:stop,step]\n",
    "\n",
    "# Remember that list starts at zero, therefore its the 3 items in the list single index\n",
    "print(names[2])\n",
    "\n",
    "#Print the last value no matter the size of the list using a lenght function\n",
    "print(names[len(names)-1])\n",
    "\n",
    "#Printing  the last value of the list shorthand\n",
    "print(names[-1])\n",
    "\n",
    "#Print starting at one going to the end\n",
    "print(names[1:])\n",
    "\n",
    "#print staring at the begiining of list untill the end what ever index we give it\n",
    "print(names[:3])\n",
    "\n",
    "# pring from one index to another fro kathy to bob does\n",
    "print(name[2:4])\n",
    "\n",
    "# print starting at index one going up by 2\n",
    "print(names[1::2])\n",
    "\n",
    "# print starting at the end and going this is reversing the list, but doenst change the orginal list\n",
    "print(names[::-1])\n",
    "\n"
   ]
  },
  {
   "cell_type": "markdown",
   "metadata": {},
   "source": [
    "##### .append()"
   ]
  },
  {
   "cell_type": "code",
   "execution_count": 95,
   "metadata": {},
   "outputs": [
    {
     "name": "stdout",
     "output_type": "stream",
     "text": [
      "['max', 'cindy', 'kathey', 'bob', 'nate', 5, 'kane']\n"
     ]
    }
   ],
   "source": [
    "# slicing onlu copies, append() changes the data by adding to the data\n",
    "names.append(\"kane\")\n",
    "print(names)"
   ]
  },
  {
   "cell_type": "markdown",
   "metadata": {},
   "source": [
    "##### .insert()"
   ]
  },
  {
   "cell_type": "code",
   "execution_count": 96,
   "metadata": {},
   "outputs": [],
   "source": [
    "#We can put at location 4 the string suzz\n",
    "names.insert(3,\"suzz\")"
   ]
  },
  {
   "cell_type": "markdown",
   "metadata": {},
   "source": [
    "##### .pop()"
   ]
  },
  {
   "cell_type": "code",
   "execution_count": 98,
   "metadata": {},
   "outputs": [
    {
     "name": "stdout",
     "output_type": "stream",
     "text": [
      "5\n",
      "['max', 'cindy', 'kathey', 'suzz', 'bob', 'nate']\n"
     ]
    }
   ],
   "source": [
    "#defaults is the last value of the list if no parameter is given\n",
    "#pop returns the element that was removed in case you want to assign it into a variable\n",
    "\n",
    "my_name = names.pop()\n",
    "print(my_name)\n",
    "\n",
    "print(names)"
   ]
  },
  {
   "cell_type": "markdown",
   "metadata": {},
   "source": [
    "\n",
    "##### .remove()"
   ]
  },
  {
   "cell_type": "code",
   "execution_count": 100,
   "metadata": {},
   "outputs": [
    {
     "name": "stdout",
     "output_type": "stream",
     "text": [
      "['max', 'cindy', 'suzz', 'bob', 'nate']\n"
     ]
    }
   ],
   "source": [
    "#Value to be removed, not the index\n",
    "names.remove(\"kathey\")\n",
    "print(names)\n",
    "\n"
   ]
  },
  {
   "cell_type": "markdown",
   "metadata": {},
   "source": [
    "##### del()"
   ]
  },
  {
   "cell_type": "code",
   "execution_count": 101,
   "metadata": {},
   "outputs": [
    {
     "name": "stdout",
     "output_type": "stream",
     "text": [
      "['max', 'suzz', 'bob', 'nate']\n"
     ]
    }
   ],
   "source": [
    "#Be Careful, it can cause indexing error  if used improperly\n",
    "\n",
    "del names[1]\n",
    "print(names)"
   ]
  },
  {
   "cell_type": "markdown",
   "metadata": {},
   "source": [
    "##### Concatenating Two Lists"
   ]
  },
  {
   "cell_type": "code",
   "execution_count": 102,
   "metadata": {},
   "outputs": [
    {
     "name": "stdout",
     "output_type": "stream",
     "text": [
      "[0, 1, 2, 3, 4, 5]\n"
     ]
    }
   ],
   "source": [
    "frist_list = [0,1,2]\n",
    "second_list = [3,4,5]\n",
    "full_list = frist_list + second_list\n",
    "print(full_list)"
   ]
  },
  {
   "cell_type": "markdown",
   "metadata": {},
   "source": [
    "##### Lists Within Lists"
   ]
  },
  {
   "cell_type": "code",
   "execution_count": null,
   "metadata": {},
   "outputs": [
    {
     "name": "stdout",
     "output_type": "stream",
     "text": [
      "['max', 'cindy', 'kathey', 'bob', 'nate', 5, ['Kane', 'Suzz', 'Trixy']]\n"
     ]
    }
   ],
   "source": [
    "names = [\"max\", \"cindy\", \"kathey\", \"bob\", \"nate\", 5,[\"Kane\", \"Suzz\", \"Trixy\"]]\n",
    "print(names)\n",
    "print(names[6][0])"
   ]
  },
  {
   "cell_type": "code",
   "execution_count": null,
   "metadata": {},
   "outputs": [],
   "source": []
  },
  {
   "cell_type": "code",
   "execution_count": null,
   "metadata": {},
   "outputs": [],
   "source": []
  },
  {
   "cell_type": "markdown",
   "metadata": {},
   "source": [
    "##### Looping Through Lists"
   ]
  },
  {
   "cell_type": "code",
   "execution_count": null,
   "metadata": {},
   "outputs": [
    {
     "name": "stdout",
     "output_type": "stream",
     "text": [
      "max\n",
      "cindy\n",
      "kathey\n",
      "bob\n",
      "nate\n",
      "5\n",
      "['Kane', 'Suzz', 'Trixy']\n",
      "max\n",
      "cindy\n",
      "kathey\n",
      "bob\n",
      "nate\n",
      "5\n",
      "['Kane', 'Suzz', 'Trixy']\n"
     ]
    }
   ],
   "source": [
    "# two was to loop through a list, one is by index the other in keyword\n",
    "\n",
    "# with a for loop using the index the index must be used inside the names[i]\n",
    "for i in range(len(names)):\n",
    "    print(names[i])\n",
    "\n",
    "# loop with a using the in keyword we dont need to call the name\n",
    "for i in names:\n",
    "    print(i)"
   ]
  },
  {
   "cell_type": "markdown",
   "metadata": {},
   "source": [
    "## Exercise #1 <br>\n",
    "<p>Cube Number Test... Print out all cubed numbers up to the total value 1000. Meaning that if the cubed number is over 1000 break the loop.</p>"
   ]
  },
  {
   "cell_type": "code",
   "execution_count": null,
   "metadata": {},
   "outputs": [
    {
     "name": "stdout",
     "output_type": "stream",
     "text": [
      "0 1 8 27 64 125 216 343 512 729 1000 "
     ]
    }
   ],
   "source": [
    "#Declaring a varible\n",
    "x=0\n",
    "\n",
    "#Looping in the range of 200\n",
    "for x in range(12):\n",
    "    if x**3>=1000:\n",
    "        break\n",
    "    print(x**3, end = \" \")"
   ]
  },
  {
   "cell_type": "markdown",
   "metadata": {},
   "source": [
    "## Exercise #2 <br>\n",
    "<p>Get first prime numbers up to 100</p>"
   ]
  },
  {
   "cell_type": "code",
   "execution_count": null,
   "metadata": {},
   "outputs": [
    {
     "name": "stdout",
     "output_type": "stream",
     "text": [
      "Possible Primes 1 2 3 5 7 11 13 17 19 23 29 31 37 41 43 47 53 59 61 67 71 73 79 83 89 97 "
     ]
    }
   ],
   "source": [
    "# HINT::\n",
    "# An else after an if runs if the if didn’t\n",
    "# An else after a for runs if the for didn’t break\n",
    "is_it_a_prime = True\n",
    "print(\"Primes \"+ str(1) + \" \", end = \"\")\n",
    "for x in range(2,100):\n",
    "    for y in range(2,x):\n",
    "        if x % y == 0:\n",
    "            is_it_a_prime = False\n",
    "            break\n",
    "        is_it_a_prime = True\n",
    "    if is_it_a_prime:\n",
    "        print(str(x), end=\" \")\n"
   ]
  },
  {
   "cell_type": "markdown",
   "metadata": {},
   "source": [
    "# Exercise 3 <br>\n",
    "<p>Take in a users input for their age, if they are younger than 18 print kids, if they're 18 to 65 print adults, else print seniors</p>"
   ]
  },
  {
   "cell_type": "code",
   "execution_count": null,
   "metadata": {},
   "outputs": [
    {
     "name": "stdout",
     "output_type": "stream",
     "text": [
      "please input your age as an interger? 5\n",
      "your a kid\n"
     ]
    }
   ],
   "source": [
    "#Asking for input for the users age\n",
    "age = int(input(\"please input your age as an interger? \"))\n",
    "\n",
    "#If elif else change to commicate the stage of life an individual is in\n",
    "if age < 18:\n",
    "    #age is less than 18 it prints your a kid\n",
    "    print(\"your a kid\")\n",
    "elif age >= 18 and age <= 65:\n",
    "    print(\"your an adult\")\n",
    "else:\n",
    "    print(\"your a senior\")\n",
    "    \n"
   ]
  },
  {
   "cell_type": "code",
   "execution_count": null,
   "metadata": {},
   "outputs": [],
   "source": []
  },
  {
   "cell_type": "code",
   "execution_count": null,
   "metadata": {},
   "outputs": [],
   "source": []
  }
 ],
 "metadata": {
  "kernelspec": {
   "display_name": "Python 3 (ipykernel)",
   "language": "python",
   "name": "python3"
  },
  "language_info": {
   "codemirror_mode": {
    "name": "ipython",
    "version": 3
   },
   "file_extension": ".py",
   "mimetype": "text/x-python",
   "name": "python",
   "nbconvert_exporter": "python",
   "pygments_lexer": "ipython3",
   "version": "3.11.3"
  }
 },
 "nbformat": 4,
 "nbformat_minor": 2
}
